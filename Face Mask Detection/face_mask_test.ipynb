{
 "cells": [
  {
   "cell_type": "code",
   "execution_count": 3,
   "metadata": {},
   "outputs": [],
   "source": [
    "import cv2\n",
    "import numpy as np\n"
   ]
  },
  {
   "cell_type": "code",
   "execution_count": 4,
   "metadata": {},
   "outputs": [
    {
     "name": "stderr",
     "output_type": "stream",
     "text": [
      "WARNING:absl:Compiled the loaded model, but the compiled metrics have yet to be built. `model.compile_metrics` will be empty until you train or evaluate the model.\n"
     ]
    }
   ],
   "source": [
    "from tensorflow import keras\n",
    "\n",
    "# Load the model from the SavedModel format\n",
    "loaded_model = keras.models.load_model('face_mask_detection_model.h5')"
   ]
  },
  {
   "cell_type": "code",
   "execution_count": 10,
   "metadata": {},
   "outputs": [
    {
     "name": "stdout",
     "output_type": "stream",
     "text": [
      "\u001b[1m1/1\u001b[0m \u001b[32m━━━━━━━━━━━━━━━━━━━━\u001b[0m\u001b[37m\u001b[0m \u001b[1m0s\u001b[0m 32ms/step\n",
      "[[0.03470573 0.7059305 ]]\n",
      "1\n",
      "The person is wearing a mask\n"
     ]
    }
   ],
   "source": [
    "input_img_path = input(\"Path of the image to be checked: \")\n",
    "\n",
    "# Read the image\n",
    "input_img = cv2.imread(input_img_path)\n",
    "\n",
    "# Preprocess the image\n",
    "input_img = cv2.resize(input_img, (128, 128))  # Resize\n",
    "input_img = input_img / 255  # Scale pixel values to [0, 1]\n",
    "input_img = np.reshape(input_img, [1, 128, 128, 3])  # Reshape for model input\n",
    "\n",
    "# Make a prediction\n",
    "input_prediction = loaded_model.predict(input_img)\n",
    "print(input_prediction)\n",
    "\n",
    "# Get the predicted label\n",
    "input_pred_label = np.argmax(input_prediction)\n",
    "print(input_pred_label)\n",
    "\n",
    "# Print the result\n",
    "if input_pred_label == 1:\n",
    "    print(\"The person is wearing a mask\")\n",
    "else:\n",
    "    print(\"The person is not wearing a mask\")"
   ]
  }
 ],
 "metadata": {
  "kernelspec": {
   "display_name": ".venv",
   "language": "python",
   "name": "python3"
  },
  "language_info": {
   "codemirror_mode": {
    "name": "ipython",
    "version": 3
   },
   "file_extension": ".py",
   "mimetype": "text/x-python",
   "name": "python",
   "nbconvert_exporter": "python",
   "pygments_lexer": "ipython3",
   "version": "3.11.1"
  }
 },
 "nbformat": 4,
 "nbformat_minor": 2
}
